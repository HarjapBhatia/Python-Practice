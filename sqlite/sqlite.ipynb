{
 "cells": [
  {
   "cell_type": "code",
   "execution_count": 2,
   "id": "88f464b1",
   "metadata": {},
   "outputs": [],
   "source": [
    "# CONNECTING TO SQLITE3\n",
    "\n",
    "import sqlite3\n",
    "conn = sqlite3.connect('students.db') # creates file if not exists\n",
    "cursor = conn.cursor()"
   ]
  },
  {
   "cell_type": "code",
   "execution_count": 4,
   "id": "895fbedc",
   "metadata": {},
   "outputs": [],
   "source": [
    "# CREATE A TABLE\n",
    "\n",
    "cursor.execute('''\n",
    "CREATE TABLE IF NOT EXISTS students (\n",
    "id INTEGER PRIMARY KEY AUTOINCREMENT, name TEXT NOT NULL,\n",
    "age INTEGER,\n",
    "grade TEXT\n",
    ")\n",
    "''')\n",
    "conn.commit() # Save the changes"
   ]
  },
  {
   "cell_type": "code",
   "execution_count": 5,
   "id": "5c7393bf",
   "metadata": {},
   "outputs": [],
   "source": [
    "# INSERTING DATA (CREATE)\n",
    "\n",
    "cursor.execute(\"\"\"\n",
    "INSERT INTO students (name, age, grade)\n",
    "VALUES (?, ?, ?)\n",
    "\"\"\", (\"Alice\", 20, \"A\"))\n",
    "conn.commit()"
   ]
  },
  {
   "cell_type": "code",
   "execution_count": 6,
   "id": "d96c3d39",
   "metadata": {},
   "outputs": [],
   "source": [
    "# INSERTING MULTIPLE DATA\n",
    "\n",
    "students_data = [\n",
    "(\"Bob\", 19, \"B\"),\n",
    "(\"Charlie\", 21, \"A+\"),\n",
    "(\"David\", 22, \"B+\")\n",
    "]\n",
    "cursor.executemany(\"\"\"\n",
    "INSERT INTO students (name, age, grade)\n",
    "VALUES (?, ?, ?)\n",
    "\"\"\", students_data)\n",
    "conn.commit()"
   ]
  }
 ],
 "metadata": {
  "kernelspec": {
   "display_name": "Python 3",
   "language": "python",
   "name": "python3"
  },
  "language_info": {
   "codemirror_mode": {
    "name": "ipython",
    "version": 3
   },
   "file_extension": ".py",
   "mimetype": "text/x-python",
   "name": "python",
   "nbconvert_exporter": "python",
   "pygments_lexer": "ipython3",
   "version": "3.13.0"
  }
 },
 "nbformat": 4,
 "nbformat_minor": 5
}

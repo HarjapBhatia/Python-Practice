{
 "cells": [
  {
   "cell_type": "code",
   "execution_count": null,
   "id": "c22b2f4f",
   "metadata": {},
   "outputs": [
    {
     "name": "stdout",
     "output_type": "stream",
     "text": [
      "10\n",
      "2.5\n",
      "[2 4]\n",
      "[1 3]\n",
      "[3 4]\n",
      "[1 2]\n",
      "2.5\n"
     ]
    }
   ],
   "source": [
    "# AGGREGATE FUNCTIONS\n",
    "\n",
    "import numpy as np\n",
    "\n",
    "arr = np.array([[1,3],[2,4]])\n",
    "# axis = 0 -> row\n",
    "# axis = 1 -> column\n",
    "print(arr.sum())\n",
    "print(arr.mean())\n",
    "print(arr.max(axis=0))\n",
    "print(arr.min(axis=0))\n",
    "print(arr.max(axis=1))\n",
    "print(arr.min(axis=1))\n",
    "print(np.median(arr))"
   ]
  },
  {
   "cell_type": "code",
   "execution_count": 15,
   "id": "71e752ab",
   "metadata": {},
   "outputs": [
    {
     "name": "stdout",
     "output_type": "stream",
     "text": [
      "[ 4 52 23]\n",
      "[False False  True  True False False  True]\n"
     ]
    }
   ],
   "source": [
    "a = np.array([0,2,4,52,3,0,23])\n",
    "mask = a > 3\n",
    "print(a[mask])\n",
    "print(mask)"
   ]
  }
 ],
 "metadata": {
  "kernelspec": {
   "display_name": "Python 3",
   "language": "python",
   "name": "python3"
  },
  "language_info": {
   "codemirror_mode": {
    "name": "ipython",
    "version": 3
   },
   "file_extension": ".py",
   "mimetype": "text/x-python",
   "name": "python",
   "nbconvert_exporter": "python",
   "pygments_lexer": "ipython3",
   "version": "3.13.1"
  }
 },
 "nbformat": 4,
 "nbformat_minor": 5
}

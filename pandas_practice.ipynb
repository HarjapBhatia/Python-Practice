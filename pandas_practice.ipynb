{
 "cells": [
  {
   "cell_type": "code",
   "execution_count": 3,
   "id": "4cb7bbb1",
   "metadata": {},
   "outputs": [
    {
     "name": "stdout",
     "output_type": "stream",
     "text": [
      "20\n",
      "[10 20 30]\n"
     ]
    }
   ],
   "source": [
    "# DATAFRAMES\n",
    "import pandas as pd\n",
    "\n",
    "# 1D DATAFRAME\n",
    "s = pd.Series([10,20,30],index = [\"a\",\"b\",\"c\"])\n",
    "print(s[\"b\"])\n",
    "print(s.values)  "
   ]
  },
  {
   "cell_type": "code",
   "execution_count": 6,
   "id": "a97fb9fa",
   "metadata": {},
   "outputs": [
    {
     "name": "stdout",
     "output_type": "stream",
     "text": [
      "      Name  Age  Points\n",
      "0      Max   28     135\n",
      "1    Lewis   33     102\n",
      "2  Charles   27     105\n"
     ]
    }
   ],
   "source": [
    "# 2D DATAFRAME WITH LABELED ROWS AND COLUMNS\n",
    "\n",
    "data = {\n",
    "    \"Name\" : [\"Max\", \"Lewis\", \"Charles\"],\n",
    "    \"Age\" : [28, 33, 27],\n",
    "    \"Points\" : [135, 102, 105]\n",
    "}\n",
    "\n",
    "df = pd.DataFrame(data)\n",
    "print(df)"
   ]
  },
  {
   "cell_type": "code",
   "execution_count": 17,
   "id": "c049a0a7",
   "metadata": {},
   "outputs": [
    {
     "name": "stdout",
     "output_type": "stream",
     "text": [
      "      Name  Age\n",
      "1    Alice   24\n",
      "2      Bob   27\n",
      "3  Charlie   22\n",
      "4    David   32\n",
      "5      Eva   22\n",
      "    Name  Age\n",
      "1  Alice   24\n",
      "2    Bob   27\n",
      "    Name  Age\n",
      "4  David   32\n",
      "5    Eva   22\n"
     ]
    }
   ],
   "source": [
    "import pandas as pd\n",
    "\n",
    "data = {\n",
    "    'Name': ['Alice', 'Bob', 'Charlie', 'David', 'Eva'],\n",
    "    'Age': [24, 27, 22, 32, 22]\n",
    "}\n",
    "\n",
    "df = pd.DataFrame(data, index = range(1,len(data[\"Name\"]) + 1))\n",
    "print(df)\n",
    "print(df.head(2))\n",
    "print(df.tail(2))"
   ]
  },
  {
   "cell_type": "code",
   "execution_count": 18,
   "id": "2d68ff08",
   "metadata": {},
   "outputs": [
    {
     "name": "stdout",
     "output_type": "stream",
     "text": [
      "Bob\n",
      "\n",
      "Name    Alice\n",
      "Age        24\n",
      "Name: 1, dtype: object\n"
     ]
    }
   ],
   "source": [
    "# COLUMN ACCESS\n",
    "print(df.loc[2,'Name'])     # location of [index, column name]\n",
    "print()\n",
    "print(df.iloc[0])           # index loacation of index = 0"
   ]
  },
  {
   "cell_type": "code",
   "execution_count": 22,
   "id": "0b8d92d3",
   "metadata": {},
   "outputs": [
    {
     "name": "stdout",
     "output_type": "stream",
     "text": [
      "      Name  Age Grade\n",
      "1    Alice   24     B\n",
      "2      Bob   27     A\n",
      "3  Charlie   22    A+\n",
      "4    David   32     A\n",
      "5      Eva   22    A+\n",
      "\n",
      "      Name Grade\n",
      "1    Alice     B\n",
      "2      Bob     A\n",
      "3  Charlie    A+\n",
      "4    David     A\n",
      "5      Eva    A+\n",
      "      Name  Age Score\n",
      "1    Alice   24     B\n",
      "2      Bob   27     A\n",
      "3  Charlie   22    A+\n",
      "4    David   32     A\n",
      "5      Eva   22    A+\n"
     ]
    }
   ],
   "source": [
    "# DATAFRAME OPERATIONS\n",
    "\n",
    "#adding a row or column directly\n",
    "df[\"Grade\"] = [\"B\", \"A\", \"A+\", \"A\", \"A+\"]\n",
    "print(df)\n",
    "print()\n",
    "\n",
    "\n",
    "#df.drop() for removing a row or column\n",
    "res = df.drop(\"Age\", axis=1, inplace=False)\n",
    "# inplace = true -> The original DataFrame (df) is modified directly, and no new DataFrame is returned.\n",
    "# inplace = false (default) -> A new DataFrame is returned with the column dropped, leaving the original df unchanged\n",
    "print(res)\n",
    "\n",
    "\n",
    "#renaming a column\n",
    "res2 = df.rename(columns={\"Grade\" : \"Score\"}, inplace=False)\n",
    "print(res2)"
   ]
  },
  {
   "cell_type": "code",
   "execution_count": 53,
   "id": "420165ec",
   "metadata": {},
   "outputs": [
    {
     "name": "stdout",
     "output_type": "stream",
     "text": [
      "    Name  Marks\n",
      "0  Alice   85.0\n",
      "1   None    NaN\n",
      "2  David   95.0\n",
      "    Name  Marks\n",
      "0  False  False\n",
      "1   True   True\n",
      "2  False  False\n",
      "      Name    Marks\n",
      "0    Alice     85.0\n",
      "1  Unknown  Unknown\n",
      "2    David     95.0\n",
      "None\n"
     ]
    },
    {
     "data": {
      "text/html": [
       "<div>\n",
       "<style scoped>\n",
       "    .dataframe tbody tr th:only-of-type {\n",
       "        vertical-align: middle;\n",
       "    }\n",
       "\n",
       "    .dataframe tbody tr th {\n",
       "        vertical-align: top;\n",
       "    }\n",
       "\n",
       "    .dataframe thead th {\n",
       "        text-align: right;\n",
       "    }\n",
       "</style>\n",
       "<table border=\"1\" class=\"dataframe\">\n",
       "  <thead>\n",
       "    <tr style=\"text-align: right;\">\n",
       "      <th></th>\n",
       "      <th>Name</th>\n",
       "      <th>Marks</th>\n",
       "    </tr>\n",
       "  </thead>\n",
       "  <tbody>\n",
       "    <tr>\n",
       "      <th>0</th>\n",
       "      <td>Alice</td>\n",
       "      <td>85.0</td>\n",
       "    </tr>\n",
       "    <tr>\n",
       "      <th>2</th>\n",
       "      <td>David</td>\n",
       "      <td>95.0</td>\n",
       "    </tr>\n",
       "  </tbody>\n",
       "</table>\n",
       "</div>"
      ],
      "text/plain": [
       "    Name  Marks\n",
       "0  Alice   85.0\n",
       "2  David   95.0"
      ]
     },
     "execution_count": 53,
     "metadata": {},
     "output_type": "execute_result"
    }
   ],
   "source": [
    "import numpy as np\n",
    "df = pd.DataFrame({\n",
    "    \"Name\" : [\"Alice\", None, \"David\"],\n",
    "    \"Marks\" : [85, np.nan, 95]\n",
    "})\n",
    "\n",
    "print(df)\n",
    "print(df.isnull())\n",
    "a = print(df.fillna(\"Unknown\",inplace=False))\n",
    "print(a)\n",
    "df.dropna(inplace=False)"
   ]
  }
 ],
 "metadata": {
  "kernelspec": {
   "display_name": "Python 3",
   "language": "python",
   "name": "python3"
  },
  "language_info": {
   "codemirror_mode": {
    "name": "ipython",
    "version": 3
   },
   "file_extension": ".py",
   "mimetype": "text/x-python",
   "name": "python",
   "nbconvert_exporter": "python",
   "pygments_lexer": "ipython3",
   "version": "3.13.1"
  }
 },
 "nbformat": 4,
 "nbformat_minor": 5
}

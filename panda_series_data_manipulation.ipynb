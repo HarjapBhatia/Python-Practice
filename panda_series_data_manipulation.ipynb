{
 "cells": [
  {
   "cell_type": "code",
   "execution_count": 27,
   "id": "744c55c3",
   "metadata": {},
   "outputs": [
    {
     "name": "stdout",
     "output_type": "stream",
     "text": [
      "RangeIndex(start=0, stop=4, step=1)\n",
      "[10 20 30 40]\n",
      "int64\n",
      "4\n",
      "(4,)\n",
      "200\n",
      "200\n",
      "a    100\n",
      "c    300\n",
      "dtype: int64\n",
      "a    100\n",
      "b    200\n",
      "dtype: int64\n"
     ]
    },
    {
     "name": "stderr",
     "output_type": "stream",
     "text": [
      "C:\\Users\\piet\\AppData\\Local\\Temp\\ipykernel_4372\\283535839.py:15: FutureWarning: Series.__getitem__ treating keys as positions is deprecated. In a future version, integer keys will always be treated as labels (consistent with DataFrame behavior). To access a value by position, use `ser.iloc[pos]`\n",
      "  print(s2[1]) # 200 (positional access)\n"
     ]
    }
   ],
   "source": [
    "import pandas as pd\n",
    "# From list\n",
    "s1 = pd.Series ([10, 20, 30, 40])\n",
    "# From list with custom index\n",
    "s2 = pd. Series ([100, 200, 300], index=['a', 'b', 'c'])\n",
    "# From dictionary\n",
    "s3 = pd.Series({'x': 5, 'y': 10, 'z': 15})\n",
    "print(s1.index) # Index range\n",
    "print(s1.values) # Array ([10, 20, 30, 40])\n",
    "print(s1.dtype) # int64\n",
    "print(s1.size) # 4\n",
    "print(s1.shape)\n",
    "\n",
    "print(s2['b']) # 200 \n",
    "print(s2[1]) # 200 (positional access)\n",
    "print(s2[['a', 'c']]) # Multiple label access\n",
    "print (s2[0:2]) # Slice like a list: [100, 200]"
   ]
  },
  {
   "cell_type": "code",
   "execution_count": 30,
   "id": "5ad93f8a",
   "metadata": {},
   "outputs": [
    {
     "name": "stdout",
     "output_type": "stream",
     "text": [
      "0    False\n",
      "1     True\n",
      "2    False\n",
      "3     True\n",
      "dtype: bool\n",
      "0     True\n",
      "1    False\n",
      "2     True\n",
      "3    False\n",
      "dtype: bool\n"
     ]
    },
    {
     "data": {
      "text/plain": [
       "0    10.0\n",
       "2    30.0\n",
       "dtype: float64"
      ]
     },
     "execution_count": 30,
     "metadata": {},
     "output_type": "execute_result"
    }
   ],
   "source": [
    "import pandas as pd\n",
    "import numpy as np\n",
    "s = pd.Series ([10, None, 30, np.nan])\n",
    "print(s.isnull()) # True where NaN\n",
    "print(s.notnull()) # Inverse\n",
    "s.fillna(0) # Replace NaN with 0 1\n",
    "s.dropna() # Remove NaN entries"
   ]
  },
  {
   "cell_type": "code",
   "execution_count": 39,
   "id": "bb9389e1",
   "metadata": {},
   "outputs": [
    {
     "name": "stdout",
     "output_type": "stream",
     "text": [
      "150\n",
      "30.0\n",
      "10\n",
      "50\n",
      "15.811388300841896\n",
      "count     5.000000\n",
      "mean     30.000000\n",
      "std      15.811388\n",
      "min      10.000000\n",
      "25%      20.000000\n",
      "50%      30.000000\n",
      "75%      40.000000\n",
      "max      50.000000\n",
      "dtype: float64\n"
     ]
    }
   ],
   "source": [
    "# DESCRIPTIVE STATISTICS\n",
    "\n",
    "s = pd.Series([10, 20, 30, 40, 50])\n",
    "print(s.sum())\n",
    "#150\n",
    "print(s.mean())\n",
    "#30.0\n",
    "print(s.min())\n",
    "print(s.max())\n",
    "# 10, 50\n",
    "print(s.std())\n",
    "# Standard deviation\n",
    "print(s.describe())\n",
    "# Summary stats"
   ]
  },
  {
   "cell_type": "code",
   "execution_count": 49,
   "id": "c85bbd3c",
   "metadata": {},
   "outputs": [
    {
     "name": "stdout",
     "output_type": "stream",
     "text": [
      "b    10\n",
      "c    20\n",
      "d    30\n",
      "a    40\n",
      "dtype: int64\n",
      "a    40\n",
      "b    10\n",
      "c    20\n",
      "d    30\n",
      "dtype: int64\n",
      "d    3.0\n",
      "b    1.0\n",
      "a    4.0\n",
      "c    2.0\n",
      "dtype: float64\n",
      "d    5.0\n",
      "b    1.5\n",
      "e    4.0\n",
      "a    1.5\n",
      "f    6.0\n",
      "c    3.0\n",
      "dtype: float64\n"
     ]
    }
   ],
   "source": [
    "# SORTING THE SERIES\n",
    "\n",
    "import pandas as pd\n",
    "import numpy as np\n",
    "s = pd.Series([30, 10, 40, 20], index=['d', 'b', 'a', 'c'])\n",
    "print(s.sort_values()) # Sort by values\n",
    "print(s.sort_index()) # Sort by index\n",
    "print(s.rank())  # Assigns a rank to each value based on its position in the sorted order of values (ascending by default).\n",
    "# Ranks:\n",
    "# - 10 (index b): rank 1 (smallest value)\n",
    "# - 20 (index c): rank 2\n",
    "# - 30 (index d): rank 3\n",
    "# - 40 (index a): rank 4 (largest value)\n",
    "\n",
    "# multiple similar elements\n",
    "s = pd.Series([30, 10, 21, 10, 40, 20], index=['d', 'b', 'e', 'a', 'f', 'c'])\n",
    "print(s.rank())  # it will divide the rank in fractions if multiple elements will present\n"
   ]
  },
  {
   "cell_type": "code",
   "execution_count": 51,
   "id": "cbea7235",
   "metadata": {},
   "outputs": [
    {
     "name": "stdout",
     "output_type": "stream",
     "text": [
      "a     NaN\n",
      "b    25.0\n",
      "c    45.0\n",
      "d     NaN\n",
      "dtype: float64\n"
     ]
    }
   ],
   "source": [
    "s1 = pd.Series([10, 20, 30], index=['a', 'b', 'c'])\n",
    "s2 = pd.Series([5, 15, 25], index=['b', 'c', 'd'])\n",
    "print(s1 + s2)"
   ]
  }
 ],
 "metadata": {
  "kernelspec": {
   "display_name": "Python 3",
   "language": "python",
   "name": "python3"
  },
  "language_info": {
   "codemirror_mode": {
    "name": "ipython",
    "version": 3
   },
   "file_extension": ".py",
   "mimetype": "text/x-python",
   "name": "python",
   "nbconvert_exporter": "python",
   "pygments_lexer": "ipython3",
   "version": "3.13.0"
  }
 },
 "nbformat": 4,
 "nbformat_minor": 5
}

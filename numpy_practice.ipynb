{
 "cells": [
  {
   "cell_type": "code",
   "execution_count": null,
   "id": "98a2dfe3",
   "metadata": {},
   "outputs": [
    {
     "name": "stdout",
     "output_type": "stream",
     "text": [
      "(3,)\n",
      "(2, 2)\n",
      "1\n",
      "2\n",
      "int64\n",
      "int64\n"
     ]
    }
   ],
   "source": [
    "import numpy as np\n",
    "a = np.array([1,2,3])\n",
    "b = np.array([[1,2],[3,4]])\n",
    "\n",
    "print(a.shape)\n",
    "print(b.shape)\n",
    "print(a.ndim)\n",
    "print(b.ndim)   \n",
    "print(a.dtype)\n",
    "print(b.dtype)"
   ]
  },
  {
   "cell_type": "code",
   "execution_count": null,
   "id": "ee36c62f",
   "metadata": {},
   "outputs": [
    {
     "name": "stdout",
     "output_type": "stream",
     "text": [
      "[[0. 0. 0.]\n",
      " [0. 0. 0.]]\n",
      "\n",
      "[1. 1. 1.]\n",
      "\n",
      "[[1. 0. 0.]\n",
      " [0. 1. 0.]\n",
      " [0. 0. 1.]]\n",
      "\n",
      "[1 3 5 7 9]\n",
      "\n",
      "[0.   0.25 0.5  0.75 1.  ]\n"
     ]
    }
   ],
   "source": [
    "print(np.zeros((2,3)))  #zero matrix\n",
    "print()\n",
    "print(np.ones(3,))  #1d matrix with ones\n",
    "print()\n",
    "print(np.eye(3))  # identity matrix of order 3\n",
    "print()\n",
    "print(np.arange(1,10,2))   # 1 to 10 numbers with the gap of 2\n",
    "print()\n",
    "print(np.linspace(0,1,5))  #  5 numbers between 0 to 1 (both inclusive)        => formula:  (a,b,n)  -> d = (b-a)/n-1    sequence = a0, a0 + d, a0 + 2d, ..."
   ]
  },
  {
   "cell_type": "code",
   "execution_count": null,
   "id": "343129a7",
   "metadata": {},
   "outputs": [
    {
     "name": "stdout",
     "output_type": "stream",
     "text": [
      "2\n",
      "[2 5]\n",
      "[[1 2]\n",
      " [3 4]\n",
      " [5 6]]\n",
      "[1 2 3 4 5 6]\n"
     ]
    }
   ],
   "source": [
    "# ARRAY MANIPULATION\n",
    "\n",
    "arr = np.array([[1,2,3],[4,5,6]])\n",
    "print(arr[0,1])\n",
    "print(arr[:,1])\n",
    "\n",
    "#reshape and flatten\n",
    "print(arr.reshape(3,2))  # it reshapes (changes the order of matrix)\n",
    "print(arr.flatten())  # it makes it 1d array"
   ]
  }
 ],
 "metadata": {
  "kernelspec": {
   "display_name": "Python 3",
   "language": "python",
   "name": "python3"
  },
  "language_info": {
   "codemirror_mode": {
    "name": "ipython",
    "version": 3
   },
   "file_extension": ".py",
   "mimetype": "text/x-python",
   "name": "python",
   "nbconvert_exporter": "python",
   "pygments_lexer": "ipython3",
   "version": "3.13.1"
  }
 },
 "nbformat": 4,
 "nbformat_minor": 5
}
